{
 "cells": [
  {
   "cell_type": "markdown",
   "metadata": {},
   "source": [
    "# Monitoring Polk County, Iowa\n",
    "\n",
    "Groundwater level is an important metric, especially for agriculture states such as Iowa. One of the metrics [U.S. Geological Survey (USGS)](https://www.usgs.gov/) monitors is **depth to water level in feet below the land**. In this lab we will use a synthetic dataset that models certain scenarios for Polk County, Iowa. "
   ]
  },
  {
   "cell_type": "markdown",
   "metadata": {},
   "source": [
    "## Lab Scenario\n",
    "\n",
    "This notebook is an optional prequel to the next notebook ` anomaly_detection_lab2_2.ipynb`. In this notebook we will introduce you to the 92 locations within Polk County Iowa where we have placed the sensors to collect the three-key weather-related on a daily basis:\n",
    "\n",
    "- water-level (depth to water level in feet below the land)\n",
    "- temperature\n",
    "- humidity\n",
    "\n",
    "The data is generated daily using realistic monthly averages for Polk County, Iowa, for the years 2017 – 2019. The data is generated daily for each of the 92 different sensors within Polk County, Iowa – 3 years x 365 days x 92 sensors = 100,740 total sets of data.\n",
    "\n",
    "We are going to be using 2 copies of the dataset for years 2017 -2019: \n",
    "\n",
    "1. Normal conditions for the county.\n",
    "2. A gradual build up dry conditions in one of the regions in Polk County, Iowa over the months of June and July 2019.\n",
    "\n",
    "The overall goal of the lab-2 is to develop an approach to monitor a group of sensors based on their proximity to each other to predict regional anomalies in real-time. Thus, in this notebook we will be using K-Means clustering algorithm to create 6 different clusters of the 92 individual locations based on location proximity using the latitude and longitude information for each location. The clusters we create in this notebook, will be used in the next notebook as one of the model features.\n",
    "\n",
    "In this notebook, we will also load the two datasets – normal and gradual, to review the features and patterns that can be observed in those datasets using standard techniques."
   ]
  },
  {
   "cell_type": "markdown",
   "metadata": {},
   "source": [
    "## Outline\n",
    "\n",
    "1. **Setup**: Import required libaries and download the required shapefiles.\n",
    "\n",
    "2. **Overview of Polk County, Iowa Locations**: Visualize the Polk County locations on a map.\n",
    "\n",
    "3. **Create location clusters based on proximity (latitude and longitude)**: Use the K-Means clustering algorithm to create proximity-based clusters.\n",
    "\n",
    "4. **Introduction to the datasets**: Review the features and patterns in the datasets."
   ]
  },
  {
   "cell_type": "markdown",
   "metadata": {},
   "source": [
    "### Import required libraries "
   ]
  },
  {
   "cell_type": "code",
   "execution_count": null,
   "metadata": {},
   "outputs": [],
   "source": [
    "import pandas as pd\n",
    "import numpy as np\n",
    "import urllib.request\n",
    "import os\n",
    "import math\n",
    "from IPython.display import display, HTML, Image, SVG\n",
    "import warnings\n",
    "warnings.filterwarnings('ignore')\n",
    "pd.set_option('display.max_colwidth', -1)\n",
    "print(\"pandas version: {} numpy version: {}\".format(pd.__version__, np.__version__))\n",
    "\n",
    "import sklearn\n",
    "from sklearn.cluster import KMeans\n",
    "\n",
    "%matplotlib notebook\n",
    "import matplotlib.pyplot as plt\n",
    "import seaborn as sns\n",
    "from shapely.geometry import Point\n",
    "import geopandas as gpd\n",
    "from geopandas import GeoDataFrame\n",
    "\n",
    "print('importing libraries done!')"
   ]
  },
  {
   "cell_type": "markdown",
   "metadata": {},
   "source": [
    "### Helper method to display a pandas dataframe"
   ]
  },
  {
   "cell_type": "code",
   "execution_count": null,
   "metadata": {},
   "outputs": [],
   "source": [
    "def display_dataframe(df_in):\n",
    "    s = df_in.style.set_properties(**{'text-align': 'left'})\n",
    "    s.set_table_styles([dict(selector='th', props=[('text-align', 'left')])])\n",
    "    display(HTML(s.render()))"
   ]
  },
  {
   "cell_type": "markdown",
   "metadata": {},
   "source": [
    "### Download Polk County, Iowa shapefiles"
   ]
  },
  {
   "cell_type": "code",
   "execution_count": null,
   "metadata": {},
   "outputs": [],
   "source": [
    "faces_files = ['tl_2018_19153_faces.shp.iso.xml', 'tl_2018_19153_faces.prj', 'tl_2018_19153_faces.dbf', \n",
    "               'tl_2018_19153_faces.shp.ea.iso.xml', 'tl_2018_19153_faces.shx', 'tl_2018_19153_faces.cpg', \n",
    "               'tl_2018_19153_faces.shp']\n",
    "area_water_files = ['tl_2019_19153_areawater.dbf', 'tl_2019_19153_areawater.shp.iso.xml', \n",
    "                    'tl_2019_19153_areawater.cpg', 'tl_2019_19153_areawater.shp', \n",
    "                    'tl_2019_19153_areawater.shp.ea.iso.xml', 'tl_2019_19153_areawater.shx', \n",
    "                    'tl_2019_19153_areawater.prj']\n",
    "\n",
    "faces_url = ('https://quickstartsws9073123377.blob.core.windows.net/'\n",
    "             'azureml-blobstore-0d1c4218-a5f9-418b-bf55-902b65277b85/'\n",
    "             'anomaly_detection/counties/shapefiles/tl_2018_19153_faces/')\n",
    "\n",
    "area_water_url = ('https://quickstartsws9073123377.blob.core.windows.net/'\n",
    "                  'azureml-blobstore-0d1c4218-a5f9-418b-bf55-902b65277b85/'\n",
    "                  'anomaly_detection/counties/shapefiles/tl_2019_19153_areawater/')\n",
    "\n",
    "os.makedirs('./shapefiles/faces', exist_ok=True)\n",
    "os.makedirs('./shapefiles/areawater', exist_ok=True)\n",
    "\n",
    "for i in range(len(faces_files)):\n",
    "    file_url = faces_url + faces_files[i]\n",
    "    urllib.request.urlretrieve(file_url, ('./shapefiles/faces/' + faces_files[i]))\n",
    "\n",
    "for i in range(len(area_water_files)):\n",
    "    file_url = area_water_url + area_water_files[i]\n",
    "    urllib.request.urlretrieve(file_url, ('./shapefiles/areawater/' + area_water_files[i]))\n",
    "    \n",
    "print('Done downloading shapefiles for Polk county, Iowa!')"
   ]
  },
  {
   "cell_type": "markdown",
   "metadata": {},
   "source": [
    "## Overview of Polk County, Iowa Locations"
   ]
  },
  {
   "cell_type": "markdown",
   "metadata": {},
   "source": [
    "### Load the Polk County location data"
   ]
  },
  {
   "cell_type": "code",
   "execution_count": null,
   "metadata": {},
   "outputs": [],
   "source": [
    "polk_county_url = ('https://quickstartsws9073123377.blob.core.windows.net/'\n",
    "                   'azureml-blobstore-0d1c4218-a5f9-418b-bf55-902b65277b85/'\n",
    "                   'anomaly_detection/counties/polk_county.xlsx')\n",
    "\n",
    "polk_county_df = pd.read_excel(polk_county_url)\n",
    "polk_county_df.Longitude = -polk_county_df.Longitude\n",
    "\n",
    "pc_faces_shape = './shapefiles/faces/tl_2018_19153_faces.shp'\n",
    "pc_areawater_shape = './shapefiles/areawater/tl_2019_19153_areawater.shp'\n",
    "\n",
    "pc_faces_df = gpd.read_file(pc_faces_shape)\n",
    "pc_areawater_df = gpd.read_file(pc_areawater_shape)\n",
    "\n",
    "print('Total number of locations in Polk County, Iowa: ', len(polk_county_df))"
   ]
  },
  {
   "cell_type": "markdown",
   "metadata": {},
   "source": [
    "### Review the Polk County locations"
   ]
  },
  {
   "cell_type": "code",
   "execution_count": null,
   "metadata": {},
   "outputs": [],
   "source": [
    "display_dataframe(polk_county_df)"
   ]
  },
  {
   "cell_type": "markdown",
   "metadata": {},
   "source": [
    "### Visualize the Polk County locations\n",
    "\n",
    "Select the points on the map to see the **City** and **Zipcode** of the location"
   ]
  },
  {
   "cell_type": "code",
   "execution_count": null,
   "metadata": {},
   "outputs": [],
   "source": [
    "f, ax = plt.subplots(figsize=(7, 5))\n",
    "pc_faces_df.plot(ax=ax, color='black', alpha=1.0)\n",
    "pc_areawater_df.plot(ax=ax, color='blue')\n",
    "geometry = [Point(xy) for xy in zip(polk_county_df['Longitude'], polk_county_df['Latitude'])]\n",
    "pc_gdf = GeoDataFrame(polk_county_df, geometry=geometry)\n",
    "sc = pc_gdf.plot(ax=ax, marker='o', color='#ED2939', markersize=10, picker=5)\n",
    "ax.axis('off')\n",
    "ax.set_title('Polk County, Iowa')\n",
    "\n",
    "annot = ax.annotate(\"\", xy=(0,0), xytext=(20, 20), textcoords=\"offset points\", fontsize=8, \n",
    "                    bbox=dict(boxstyle=\"round\", fc=\"w\"),\n",
    "                    arrowprops=dict(arrowstyle=\"->\", color='white'))\n",
    "annot.set_visible(False)\n",
    "\n",
    "def update_annot(coord):\n",
    "    annot.xy = coord\n",
    "    point = Point(coord[0], coord[1])\n",
    "    row = polk_county_df[polk_county_df.geometry == point]\n",
    "    text = 'City: {} Zip: {}'.format(row.City.values[0], row.Zip.values[0])\n",
    "    annot.set_text(text)\n",
    "    annot.get_bbox_patch().set_facecolor('white')\n",
    "    annot.get_bbox_patch().set_alpha(0.8)\n",
    "    \n",
    "def onpick(event):\n",
    "    vis = annot.get_visible()\n",
    "    if vis:\n",
    "        annot.set_visible(False)       \n",
    "    art = event.artist\n",
    "    index = event.ind\n",
    "    xy = event.artist.get_offsets()\n",
    "    update_annot(xy[index][0])\n",
    "    annot.set_visible(True)\n",
    "    f.canvas.draw_idle()\n",
    "    \n",
    "def onleave(event):\n",
    "    annot.set_visible(False)\n",
    "\n",
    "f.canvas.mpl_connect('figure_leave_event', onleave)\n",
    "f.canvas.mpl_connect('pick_event', onpick)\n",
    "f.tight_layout(rect=[0, 0, 1, 1], pad=1.0)"
   ]
  },
  {
   "cell_type": "markdown",
   "metadata": {},
   "source": [
    "## Create location clusters based on proximity (latitude and longitude)"
   ]
  },
  {
   "cell_type": "code",
   "execution_count": null,
   "metadata": {},
   "outputs": [],
   "source": [
    "X = polk_county_df[['Longitude', 'Latitude']]\n",
    "\n",
    "n_clusters = 6\n",
    "km_model = KMeans(n_clusters=n_clusters, random_state=95)\n",
    "\n",
    "cluster_id = km_model.fit_predict(X)\n",
    "\n",
    "X['cluster_id'] = cluster_id"
   ]
  },
  {
   "cell_type": "markdown",
   "metadata": {},
   "source": [
    "### Visualize the clusters\n",
    "\n",
    "Select the points on the map to see the **City** and **Zipcode** of the location"
   ]
  },
  {
   "cell_type": "code",
   "execution_count": null,
   "metadata": {},
   "outputs": [],
   "source": [
    "regions = ['South', 'North', 'North-West', 'North-East', 'Center-West', 'Central']\n",
    "\n",
    "f, ax = plt.subplots(figsize=(7, 5))\n",
    "pc_faces_df.plot(ax=ax, color='black', alpha=1.0)\n",
    "pc_areawater_df.plot(ax=ax, color='blue')\n",
    "geometry = [Point(xy) for xy in zip(polk_county_df['Longitude'], polk_county_df['Latitude'])]\n",
    "pc_gdf = GeoDataFrame(polk_county_df, geometry=geometry)\n",
    "ax.axis('off')\n",
    "ax.set_title('Polk County, Iowa')\n",
    "\n",
    "annot = ax.annotate(\"\", xy=(0,0), xytext=(20, 20), textcoords=\"offset points\", fontsize=8, \n",
    "                    bbox=dict(boxstyle=\"round\", fc=\"w\"),\n",
    "                    arrowprops=dict(arrowstyle=\"->\", color='white'))\n",
    "annot.set_visible(False)\n",
    "\n",
    "def update_annot(coord):\n",
    "    annot.xy = coord\n",
    "    point = Point(coord[0], coord[1])\n",
    "    row = polk_county_df[polk_county_df.geometry == point]\n",
    "    text = 'City: {} Zip: {}'.format(row.City.values[0], row.Zip.values[0])\n",
    "    annot.set_text(text)\n",
    "    annot.get_bbox_patch().set_facecolor('white')\n",
    "    annot.get_bbox_patch().set_alpha(0.8)\n",
    "    \n",
    "def onpick(event):\n",
    "    vis = annot.get_visible()\n",
    "    if vis:\n",
    "        annot.set_visible(False)       \n",
    "    art = event.artist\n",
    "    index = event.ind\n",
    "    xy = event.artist.get_offsets()\n",
    "    update_annot(xy[index][0])\n",
    "    annot.set_visible(True)\n",
    "    f.canvas.draw_idle()\n",
    "    \n",
    "def onleave(event):\n",
    "    annot.set_visible(False)\n",
    "\n",
    "f.canvas.mpl_connect('figure_leave_event', onleave)\n",
    "f.canvas.mpl_connect('pick_event', onpick)\n",
    "f.tight_layout(rect=[0, 0, 1, 1], pad=1.0)\n",
    "\n",
    "colors = ['#FF8000', '#FFFF40', '#40C000', '#40FFC0', '#C0C0FF', '#C000C0']\n",
    "markers = ['>', 'd', 'v', '^', 's', 'o']\n",
    "\n",
    "for i in range(n_clusters):\n",
    "    plt.scatter(\n",
    "        X[cluster_id == i]['Longitude'], X[cluster_id == i]['Latitude'],\n",
    "        s=25, c=colors[i], marker=markers[i], label = regions[i], \n",
    "        picker=5\n",
    "    )\n",
    "\n",
    "# plot the centroids\n",
    "plt.scatter(\n",
    "    km_model.cluster_centers_[:, 0], km_model.cluster_centers_[:, 1],\n",
    "    s=100, marker='*', c='red', label='Centroids'\n",
    ")\n",
    "\n",
    "plt.legend(frameon=True, fontsize='x-small', loc=(0.76, 0.15));"
   ]
  },
  {
   "cell_type": "markdown",
   "metadata": {},
   "source": [
    "### Cluster Summary"
   ]
  },
  {
   "cell_type": "code",
   "execution_count": null,
   "metadata": {},
   "outputs": [],
   "source": [
    "X['region'] = X.cluster_id.apply(lambda x: regions[x])\n",
    "X['centroid_lat'] = X.cluster_id.apply(lambda x: km_model.cluster_centers_[x, 1])\n",
    "X['centroid_long'] = X.cluster_id.apply(lambda x: km_model.cluster_centers_[x, 0])\n",
    "regions_df = X.groupby(['region', 'centroid_long', 'centroid_lat', 'cluster_id'])['cluster_id'].agg(\n",
    "    ['count']).reset_index()\n",
    "regions_df.sort_values(by=['cluster_id'], inplace = True)\n",
    "regions_df.reset_index(inplace=True, drop=True)\n",
    "display_dataframe(regions_df)\n",
    "print('Total number of sensors: ', regions_df['count'].values.sum())"
   ]
  },
  {
   "cell_type": "markdown",
   "metadata": {},
   "source": [
    "## Introduction to the Datasets"
   ]
  },
  {
   "cell_type": "markdown",
   "metadata": {},
   "source": [
    "**Load the two datasets**"
   ]
  },
  {
   "cell_type": "code",
   "execution_count": null,
   "metadata": {},
   "outputs": [],
   "source": [
    "normal_url = ('https://quickstartsws9073123377.blob.core.windows.net/'\n",
    "              'azureml-blobstore-0d1c4218-a5f9-418b-bf55-902b65277b85/anomaly_detection/normal_multi.xlsx')\n",
    "\n",
    "gradual_url = ('https://quickstartsws9073123377.blob.core.windows.net/'\n",
    "               'azureml-blobstore-0d1c4218-a5f9-418b-bf55-902b65277b85/anomaly_detection/gradual_multi.xlsx')\n",
    "\n",
    "normal_df = pd.read_excel(normal_url)\n",
    "gradual_df = pd.read_excel(gradual_url)\n",
    "\n",
    "print('Size of dataset: {} rows'.format(len(normal_df)))\n",
    "print('Done loading datasets!')"
   ]
  },
  {
   "cell_type": "markdown",
   "metadata": {},
   "source": [
    "### Pair Plots\n",
    "\n",
    "Visualize the pair-wise relationships in the normal dataset for the four-key metrics: (1) location cluster (2) temperature, (3) humidity, and (4) water-level."
   ]
  },
  {
   "cell_type": "markdown",
   "metadata": {},
   "source": [
    "#### Normal Dataset\n",
    "\n",
    "The water-level appears to have a broad peak around 19 feet. It is important to note that that **higher water-level number represents dry conditions** and **lower water-level number represents wet conditions**. \n",
    "\n",
    "No natural clusters between either water-level and temperature, or water-level and humidity.\n",
    "\n",
    "*The pair plots for the gradual dataset (not shown) is very similar to the normal dataset*"
   ]
  },
  {
   "cell_type": "code",
   "execution_count": null,
   "metadata": {},
   "outputs": [],
   "source": [
    "cols = ['cluster_id', 'temperature', 'humidity', 'water_level']\n",
    "sns.pairplot(normal_df[cols])"
   ]
  },
  {
   "cell_type": "markdown",
   "metadata": {},
   "source": [
    "### Water Level Plots"
   ]
  },
  {
   "cell_type": "markdown",
   "metadata": {},
   "source": [
    "#### Box and Whisker Plot\n",
    "\n",
    "In a box and whisker plot: the ends of the box are the upper and lower quartiles, so the box spans the interquartile range. the median is marked by a horizontal line inside the box. The whiskers are the two lines outside the box indicating variability outside the upper and lower quartiles. Outliers are plotted as individual points.\n",
    "\n",
    "The plot shows what is normal changes from month to month. The summer months of June and July are relatively wet month from ground water level perspective presumably due to precipitations from earlier months. Maintaining reliable monthly water levels is critical to the agricultural needs.\n",
    "\n",
    "In the visualizations, the gradual dataset shows a relatively bigger spread of the month of July."
   ]
  },
  {
   "cell_type": "code",
   "execution_count": null,
   "metadata": {},
   "outputs": [],
   "source": [
    "f, axes = plt.subplots(2, 1, sharey=True, sharex=True, figsize=(6, 7))\n",
    "\n",
    "ax1 = sns.boxplot(x=\"month_name\", y=\"water_level\", data=normal_df, ax=axes[0])\n",
    "ax2 = sns.boxplot(x=\"month_name\", y=\"water_level\", data=gradual_df, ax=axes[1])\n",
    "\n",
    "ax1.set_title('Normal Dataset')\n",
    "ax2.set_title('Gradual Dataset')\n",
    "ax1.set_xlabel('')\n",
    "ax2.set_xlabel('')\n",
    "ax1.set_ylabel('Water Level')\n",
    "ax2.set_ylabel('Water Level')\n",
    "\n",
    "f.tight_layout(rect=[0, 0.03, 1, 0.95])"
   ]
  },
  {
   "cell_type": "markdown",
   "metadata": {},
   "source": [
    "### Daily Scatter Plot\n",
    "\n",
    "Below you see a daily scatter plot of `Water Level` reading for years 2017-2019 for each of the 92 sensors (100,740 data points).\n",
    "\n",
    "In this historic view of the data, you can observe the induced anomalies (around June-August 2019) in the gradual dataset.\n",
    "\n",
    "In the following notebook we are going to develop an anomaly detection model that allows us to detect such anomalies in real-time."
   ]
  },
  {
   "cell_type": "code",
   "execution_count": null,
   "metadata": {},
   "outputs": [],
   "source": [
    "f, ax = plt.subplots(2, 1, sharey=True, sharex=True, figsize=(6, 7))\n",
    "ax[0].plot_date(gradual_df.date, normal_df.water_level, markersize=0.5)\n",
    "ax[1].plot_date(gradual_df.date, gradual_df.water_level, markersize=0.5)\n",
    "ax[0].set_title('Normal Dataset')\n",
    "ax[1].set_title('Gradual Dataset')\n",
    "ax[0].set_ylabel('Water Level')\n",
    "ax[1].set_ylabel('Water Level')\n",
    "\n",
    "ax[1].xaxis.set_ticks(['2017-01-01', '2017-06-01', '2018-01-01', '2018-06-01', \n",
    "                       '2019-01-01', '2019-06-01', '2019-12-31'])\n",
    "\n",
    "plt.xticks(fontsize=8, rotation=45)\n",
    "f.tight_layout(rect=[0, 0.03, 1, 0.95])"
   ]
  },
  {
   "cell_type": "code",
   "execution_count": null,
   "metadata": {},
   "outputs": [],
   "source": []
  }
 ],
 "metadata": {
  "kernelspec": {
   "display_name": "Python 3.6 - AzureML",
   "language": "python",
   "name": "python3-azureml"
  },
  "language_info": {
   "codemirror_mode": {
    "name": "ipython",
    "version": 3
   },
   "file_extension": ".py",
   "mimetype": "text/x-python",
   "name": "python",
   "nbconvert_exporter": "python",
   "pygments_lexer": "ipython3",
   "version": "3.6.2"
  }
 },
 "nbformat": 4,
 "nbformat_minor": 2
}
